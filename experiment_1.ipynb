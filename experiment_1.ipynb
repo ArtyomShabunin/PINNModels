{
  "nbformat": 4,
  "nbformat_minor": 0,
  "metadata": {
    "colab": {
      "provenance": [],
      "collapsed_sections": [
        "CK13nbdKw58f"
      ],
      "authorship_tag": "ABX9TyOEPrXpGheqnbdS0YEQx7Zl",
      "include_colab_link": true
    },
    "kernelspec": {
      "name": "python3",
      "display_name": "Python 3"
    },
    "language_info": {
      "name": "python"
    }
  },
  "cells": [
    {
      "cell_type": "markdown",
      "metadata": {
        "id": "view-in-github",
        "colab_type": "text"
      },
      "source": [
        "<a href=\"https://colab.research.google.com/github/ArtyomShabunin/PINNModels/blob/main/experiment_1.ipynb\" target=\"_parent\"><img src=\"https://colab.research.google.com/assets/colab-badge.svg\" alt=\"Open In Colab\"/></a>"
      ]
    },
    {
      "cell_type": "markdown",
      "source": [
        "# Эксперимент №1\n",
        "Разработка PINN для моделирования газотурбинной установки"
      ],
      "metadata": {
        "id": "OtY1Z-2bqLqF"
      }
    },
    {
      "cell_type": "code",
      "execution_count": 141,
      "metadata": {
        "id": "shH86ypqour1"
      },
      "outputs": [],
      "source": [
        "import torch\n",
        "import torch.nn as nn\n",
        "import torch.autograd.functional as F"
      ]
    },
    {
      "cell_type": "markdown",
      "source": [
        "### 0. CompressorMapInterp — таблично заданная карта по β и скорости вращения"
      ],
      "metadata": {
        "id": "GsSaNWn-wh1A"
      }
    },
    {
      "cell_type": "code",
      "source": [
        "class CompressorMapInterp(nn.Module):\n",
        "    def __init__(self, betas, speeds, table_phi, table_pi_c, table_eta):\n",
        "        super().__init__()\n",
        "\n",
        "        # Сетка значений beta и speed_rel\n",
        "        self.register_buffer('betas', torch.tensor(betas, dtype=torch.float32))  # β\n",
        "        self.register_buffer('speeds', torch.tensor(speeds, dtype=torch.float32))  # относит. скорости\n",
        "\n",
        "        # Таблицы: (n_beta, n_speed)\n",
        "        self.register_buffer('table_phi', torch.tensor(table_phi))\n",
        "\n",
        "        self.register_buffer('table_pi_c', torch.tensor(table_pi_c))\n",
        "\n",
        "        self.register_buffer('table_eta', torch.tensor(table_eta))\n",
        "\n",
        "    def forward(self, beta, speed_rel):\n",
        "        \"\"\"\n",
        "        :param beta: (batch,) значение бета — непрерывное\n",
        "        :param speed_rel: (batch,) относительная приведенная скорость вращения\n",
        "        :return: pi_c, phi, eta — (batch,)\n",
        "        \"\"\"\n",
        "\n",
        "        # Индексы по β\n",
        "        beta_low_idx = torch.clamp(torch.searchsorted(self.betas, beta, right=False) - 1, 0, len(self.betas) - 2)\n",
        "        beta_high_idx = beta_low_idx + 1\n",
        "\n",
        "        beta0 = self.betas[beta_low_idx]\n",
        "        beta1 = self.betas[beta_high_idx]\n",
        "        w_beta = (beta - beta0) / (beta1 - beta0 + 1e-6)\n",
        "\n",
        "        # Индексы по скорости\n",
        "        speed_low_idx = torch.clamp(torch.searchsorted(self.speeds, speed_rel, right=False) - 1, 0, len(self.speeds) - 2)\n",
        "        speed_high_idx = speed_low_idx + 1\n",
        "\n",
        "        speed0 = self.speeds[speed_low_idx]\n",
        "        speed1 = self.speeds[speed_high_idx]\n",
        "        w_speed = (speed_rel - speed0) / (speed1 - speed0 + 1e-6)\n",
        "\n",
        "        def bilinear_interp(table):\n",
        "            # Получаем значения по индексам\n",
        "            val00 = table[beta_low_idx, speed_low_idx]\n",
        "            val01 = table[beta_low_idx, speed_high_idx]\n",
        "            val10 = table[beta_high_idx, speed_low_idx]\n",
        "            val11 = table[beta_high_idx, speed_high_idx]\n",
        "\n",
        "            # Интерполяция по скорости\n",
        "            val0 = val00 + w_speed * (val01 - val00)\n",
        "            val1 = val10 + w_speed * (val11 - val10)\n",
        "\n",
        "            # Интерполяция по β\n",
        "            return val0 + w_beta * (val1 - val0)\n",
        "\n",
        "        phi = bilinear_interp(self.table_phi)\n",
        "        pi_c = bilinear_interp(self.table_pi_c)\n",
        "        eta = bilinear_interp(self.table_eta)\n",
        "\n",
        "        return pi_c, phi, eta"
      ],
      "metadata": {
        "id": "aLHfR0JIwc4b"
      },
      "execution_count": 142,
      "outputs": []
    },
    {
      "cell_type": "markdown",
      "source": [
        "### 1. CompressorMapNetBeta — обучаемая карта по β и скорости вращения"
      ],
      "metadata": {
        "id": "jr1cRj07sTFj"
      }
    },
    {
      "cell_type": "code",
      "source": [
        "class CompressorMapNet(nn.Module):\n",
        "    def __init__(self):\n",
        "        super().__init__()\n",
        "        self.net = nn.Sequential(\n",
        "            nn.Linear(2, 64),\n",
        "            nn.Tanh(),\n",
        "            nn.Linear(64, 64),\n",
        "            nn.Tanh(),\n",
        "            nn.Linear(64, 3)  # pi_c, m_dot_rel, eta\n",
        "        )\n",
        "\n",
        "    def forward(self, beta, speed_rel):\n",
        "        x = torch.stack([beta, speed_rel], dim=-1)\n",
        "        out = self.net(x)\n",
        "        pi_c = out[..., 0].clamp(min=1.01, max=10.0)\n",
        "        m_dot_rel = out[..., 1].clamp(min=1e-4)\n",
        "        eta = out[..., 2].clamp(min=0.1, max=1.0)\n",
        "        return pi_c, m_dot_rel, eta"
      ],
      "metadata": {
        "id": "q7qDtZS8qcYj"
      },
      "execution_count": 143,
      "outputs": []
    },
    {
      "cell_type": "markdown",
      "source": [
        "### 2. Класс `Compressor`"
      ],
      "metadata": {
        "id": "2mGsRwkcsapV"
      }
    },
    {
      "cell_type": "code",
      "source": [
        "class Compressor(nn.Module):\n",
        "    def __init__(self, map):\n",
        "        super().__init__()\n",
        "        self.map = map\n",
        "        self.N_T_design = 9547 # приведенная скорость вращения, об/мин\n",
        "        self.cp = 1005.0\n",
        "        self.R = 287.0\n",
        "        self.A_ref = nn.Parameter(torch.tensor(1.0))  # может быть обучаемой\n",
        "\n",
        "    def forward(self, p_in, T_in, p_out, omega, n_iter=10):\n",
        "\n",
        "        # Относительная приведенная скорость вращения\n",
        "        N_T = 100*omega/torch.sqrt(T_in/290)/self.N_T_design\n",
        "\n",
        "        # Целевая степень повышения давления\n",
        "        pi_c_target = (p_out / p_in).clamp(min=1.01)\n",
        "\n",
        "        # Инициализация β как параметр, подлежащий оптимизации\n",
        "        beta = torch.full_like(p_in, 4, requires_grad=True)\n",
        "\n",
        "        # Оптимизация β через градиентный спуск (можно заменить на nn.Parameter + оптимизатор)\n",
        "        for _ in range(n_iter):\n",
        "            pi_c_pred, _, _ = self.map(beta, N_T)\n",
        "            loss = (pi_c_pred - pi_c_target).pow(2).mean()\n",
        "            grad = torch.autograd.grad(loss, beta, create_graph=True)[0]\n",
        "            beta = (beta - 1 * grad).detach().clamp(min=0.01).requires_grad_()\n",
        "\n",
        "        # Финальные значения по оптимизированному β\n",
        "        pi_c, phic, eta = self.map(beta, N_T)\n",
        "\n",
        "        # Расход воздуха\n",
        "        w = phic*p_in/1.013e5/torch.sqrt(T_in/290)\n",
        "\n",
        "        rho_in = p_in / (self.R * T_in)\n",
        "\n",
        "        T_out = T_in * (1 + (pi_c ** ((1.4 - 1) / 1.4) - 1) / eta)\n",
        "\n",
        "        delta_h = self.cp * (T_out - T_in)\n",
        "        torque = (w * delta_h) / (omega * 2 * torch.pi * 60 + 1e-6)\n",
        "\n",
        "        return {\n",
        "            'w': w,\n",
        "            'T_out': T_out,\n",
        "            'torque': torque,\n",
        "            'beta': beta.detach(),\n",
        "            'pi_c': pi_c,\n",
        "            'eta': eta\n",
        "        }"
      ],
      "metadata": {
        "id": "tH-Assu_sOak"
      },
      "execution_count": 162,
      "outputs": []
    },
    {
      "cell_type": "code",
      "source": [
        "# # Кастомный слой для ограничения параметра в [min_val, max_val]\n",
        "# class ScaledSigmoid(nn.Module):\n",
        "#     def __init__(self, min_val, max_val):\n",
        "#         super().__init__()\n",
        "#         self.min_val = min_val\n",
        "#         self.max_val = max_val\n",
        "\n",
        "#     def forward(self, x):\n",
        "#         return self.min_val + (self.max_val - self.min_val) * torch.sigmoid(x)\n",
        "\n",
        "# class CombustionChamber(nn.Module):\n",
        "#     def __init__(self, LHV=50e6, gamma=1.4, R=287.0):\n",
        "#         super().__init__()\n",
        "#         self.LHV = LHV\n",
        "#         self.gamma = gamma\n",
        "#         self.R = R\n",
        "\n",
        "#         # Параметры без ограничений\n",
        "#         self.raw_eta_comb = nn.Parameter(torch.tensor([0.0]))\n",
        "#         self.raw_k_loss = nn.Parameter(torch.tensor([0.0]))\n",
        "\n",
        "#         # Слои масштабирования sigmoid → [a, b]\n",
        "#         self.scale_eta = ScaledSigmoid(0.8, 1.0)\n",
        "#         self.scale_k_loss = ScaledSigmoid(0.0, 0.5)\n",
        "\n",
        "#     def forward(self, p_in, p_out, T_in, fuel_flow):\n",
        "#         eta_comb = self.scale_eta(self.raw_eta_comb)\n",
        "#         k_loss = self.scale_k_loss(self.raw_k_loss)\n",
        "\n",
        "#         # Учёт аэродинамического сопротивления\n",
        "#         delta_p = k_loss * p_in.clamp(min=1e-3)\n",
        "#         p_chamber = p_in - delta_p\n",
        "\n",
        "#         # Расход воздуха по уравнению изохорного баланса\n",
        "#         air_flow = (fuel_flow * self.LHV * eta_comb) / (self.R * T_in * (self.gamma / (self.gamma - 1)))\n",
        "\n",
        "#         # Температура газов на выходе\n",
        "#         Q_total = fuel_flow * self.LHV * eta_comb\n",
        "#         cp_gas = self.gamma * self.R / (self.gamma - 1)\n",
        "#         m_total = air_flow + fuel_flow\n",
        "#         T_out = T_in + Q_total / (m_total * cp_gas)\n",
        "\n",
        "#         return {\n",
        "#             'air_flow': air_flow,\n",
        "#             'gas_flow': m_total,\n",
        "#             'T_out': T_out,\n",
        "#             'p_out': p_out,\n",
        "#             'eta_comb': eta_comb,\n",
        "#             'k_loss': k_loss\n",
        "#         }\n"
      ],
      "metadata": {
        "id": "MAsfWWTNtDPR"
      },
      "execution_count": 145,
      "outputs": []
    },
    {
      "cell_type": "code",
      "source": [
        "class PressureTemperatureBC(nn.Module):\n",
        "    def __init__(self, p_val, T_val):\n",
        "        super().__init__()\n",
        "        self.p = nn.Parameter(torch.tensor(p_val))\n",
        "        self.T = nn.Parameter(torch.tensor(T_val))\n",
        "\n",
        "    def forward(self):\n",
        "        return self.p, self.T\n",
        "\n",
        "\n",
        "class PressureBC(nn.Module):\n",
        "    def __init__(self, p_val):\n",
        "        super().__init__()\n",
        "        self.p = nn.Parameter(torch.tensor(p_val))\n",
        "\n",
        "    def forward(self):\n",
        "        return self.p\n",
        "\n",
        "\n",
        "class SpeedBC(nn.Module):\n",
        "    def __init__(self, speed_val):\n",
        "        super().__init__()\n",
        "        self.speed_rel = nn.Parameter(torch.tensor(speed_val))\n",
        "\n",
        "    def forward(self):\n",
        "        return self.speed_rel"
      ],
      "metadata": {
        "id": "0Iyw98uPsOeB"
      },
      "execution_count": 146,
      "outputs": []
    },
    {
      "cell_type": "code",
      "source": [
        "class MassFlowTemperatureBC(nn.Module):\n",
        "    def __init__(self, m_flow, T):\n",
        "        super().__init__()\n",
        "        self.m_flow = nn.Parameter(torch.tensor(m_flow))\n",
        "        self.T = nn.Parameter(torch.tensor(T))\n",
        "\n",
        "    def forward(self):\n",
        "      return self.m_flow, self.T"
      ],
      "metadata": {
        "id": "lUwhLUbWzW0z"
      },
      "execution_count": 188,
      "outputs": []
    },
    {
      "cell_type": "code",
      "source": [
        "class FlowResistance(nn.Module):\n",
        "    def __init__(self, resistance_coef=1.0):\n",
        "        super().__init__()\n",
        "        self.K = nn.Parameter(torch.tensor(resistance_coef))\n",
        "\n",
        "    def forward(self, p_in, p_out):\n",
        "        m_flow = torch.sqrt((p_in-p_out).clamp(min=0)/self.K)\n",
        "        return m_flow"
      ],
      "metadata": {
        "id": "AA1yyjHzzi1x"
      },
      "execution_count": 219,
      "outputs": []
    },
    {
      "cell_type": "code",
      "source": [
        "class VolumeNode(nn.Module):\n",
        "    def __init__(self,\n",
        "                 volume=0.1, dt=0.01, R=287.0, cp=1005.0,\n",
        "                 start_p=1e5, start_T=300):\n",
        "        super().__init__()\n",
        "        self.volume = volume  # м³ — объём узла\n",
        "        self.dt = dt  # временной шаг\n",
        "        self.R = R\n",
        "        self.cp = cp\n",
        "\n",
        "        # Инициализируем давление и температуру в узле (будут обновляться)\n",
        "        self.register_buffer('p', torch.tensor(start_p))  # Па\n",
        "        self.register_buffer('T', torch.tensor(start_T))  # К\n",
        "\n",
        "    def forward(self, m_in, T_in, m_out):\n",
        "        \"\"\"\n",
        "        m_in: подача воздуха в узел (кг/с)\n",
        "        T_in: температура входящего воздуха (К)\n",
        "        m_out: расход из узла (кг/с)\n",
        "\n",
        "        Возвращает: давление и температура в узле на текущем шаге\n",
        "        \"\"\"\n",
        "        # Текущая масса в узле\n",
        "        m_curr = (self.p * self.volume) / (self.R * self.T)\n",
        "\n",
        "        # Массовый и энергетический балансы\n",
        "        m_new = m_curr + self.dt * (m_in - m_out)\n",
        "        e_curr = m_curr * self.cp * self.T\n",
        "        e_in = m_in * self.cp * T_in\n",
        "        e_out = m_out * self.cp * self.T\n",
        "        e_new = e_curr + self.dt * (e_in - e_out)\n",
        "\n",
        "        # Обновляем состояние\n",
        "        self.T = (e_new / (m_new * self.cp)).clamp(min=100.0, max=3000.0)\n",
        "        self.p = (m_new * self.R * self.T / self.volume).clamp(min=1e3, max=1e7)\n",
        "\n",
        "        return self.p, self.T"
      ],
      "metadata": {
        "id": "wwSQlRw4IKBf"
      },
      "execution_count": 202,
      "outputs": []
    },
    {
      "cell_type": "code",
      "source": [
        "# Кастомный слой для ограничения параметра в [min_val, max_val]\n",
        "class ScaledSigmoid(nn.Module):\n",
        "    def __init__(self, min_val, max_val):\n",
        "        super().__init__()\n",
        "        self.min_val = min_val\n",
        "        self.max_val = max_val\n",
        "\n",
        "    def forward(self, x):\n",
        "        return self.min_val + (self.max_val - self.min_val) * torch.sigmoid(x)\n",
        "\n",
        "class CombustionChamber(nn.Module):\n",
        "    def __init__(self,\n",
        "                 volume=0.1, dt=0.01,\n",
        "                 LHV=50e6, R=287.0, cp=1005.0,\n",
        "                 start_p = 1e5, start_T = 300):\n",
        "        super().__init__()\n",
        "        self.volume = volume  # м³ — объём камеры сгорания\n",
        "        self.dt = dt  # временной шаг\n",
        "        self.LHV = LHV\n",
        "        self.R = R\n",
        "        self.cp = cp\n",
        "\n",
        "        # Инициализируем давление и температуру в узле (будут обновляться)\n",
        "        self.register_buffer('p', torch.tensor(start_p))  # Па\n",
        "        self.register_buffer('T', torch.tensor(start_T))  # К\n",
        "\n",
        "        # Параметры без ограничений\n",
        "        self.raw_eta_comb = nn.Parameter(torch.tensor([0.0]))\n",
        "        # self.raw_k_loss = nn.Parameter(torch.tensor([0.0]))\n",
        "\n",
        "        # Слои масштабирования sigmoid → [a, b]\n",
        "        self.scale_eta = ScaledSigmoid(0.8, 1.0)\n",
        "        # self.scale_k_loss = ScaledSigmoid(0.0, 0.5)\n",
        "\n",
        "    def forward(self, T_air, air_flow, fuel_flow, flue_gas_flow):\n",
        "\n",
        "        # Текущая масса в узле\n",
        "        m_curr = (self.p * self.volume) / (self.R * self.T)\n",
        "\n",
        "        H_air = air_flow * self.cp * T_air\n",
        "        H_fuel = fuel_flow * self.LHV\n",
        "        H_flue_gas = flue_gas_flow * self.cp * self.T\n",
        "\n",
        "        # Массовый и энергетический балансы\n",
        "        m_new = m_curr + self.dt * (air_flow + fuel_flow - flue_gas_flow)\n",
        "        e_curr = m_curr * self.cp * self.T\n",
        "        e_new = e_curr + self.dt * (H_air + H_fuel - H_flue_gas)\n",
        "\n",
        "        # Обновляем состояние\n",
        "        self.T = (e_new / (m_new * self.cp)).clamp(min=100.0, max=3000.0)\n",
        "        self.p = (m_new * self.R * self.T / self.volume).clamp(min=1e3, max=1e7)\n",
        "\n",
        "        return self.p, self.T\n"
      ],
      "metadata": {
        "id": "UNKmU5t_QhCv"
      },
      "execution_count": 310,
      "outputs": []
    },
    {
      "cell_type": "code",
      "source": [],
      "metadata": {
        "id": "rrc8dQalR0mY"
      },
      "execution_count": 309,
      "outputs": []
    },
    {
      "cell_type": "code",
      "source": [],
      "metadata": {
        "id": "ifK6Mpt1Qs3u"
      },
      "execution_count": 296,
      "outputs": []
    },
    {
      "cell_type": "code",
      "source": [
        "# import torch\n",
        "# import torch.nn as nn\n",
        "\n",
        "# class GTUModel(nn.Module):\n",
        "#     def __init__(self):\n",
        "#         super().__init__()\n",
        "#         # Граничные условия\n",
        "#         self.bc_inlet = PressureTemperatureBC(1e5, 288.15)  # p, T\n",
        "#         self.bc_comb_out = PressureBC(2e5)                  # p\n",
        "#         self.bc_speed = SpeedBC(1.0)                        # относительная скорость\n",
        "\n",
        "#         # Компоненты\n",
        "#         self.volume_node = VolumeNode(volume=0.1, dt=0.01)\n",
        "#         self.compressor = Compressor(CompressorMapNet)                     # с CompressorMapNetBeta\n",
        "#         self.combustion_chamber = CombustionChamber()      # с тепловым балансом и сопротивлением\n",
        "\n",
        "#     def forward_iteration(self, fuel_flow):\n",
        "#         # Граничные условия\n",
        "#         p_inlet, T_inlet = self.bc_inlet()\n",
        "#         p_comb_out = self.bc_comb_out()\n",
        "#         speed_rel = self.bc_speed()\n",
        "\n",
        "#         # Текущее состояние узла\n",
        "#         p_node, T_node = self.volume_node.p, self.volume_node.T\n",
        "\n",
        "#         # Компрессор\n",
        "#         comp_out = self.compressor(p_inlet, T_inlet, p_node, speed_rel)\n",
        "#         m_air_in = comp_out['w']\n",
        "#         T_air_out = comp_out['T_out']\n",
        "\n",
        "#         # Камера сгорания\n",
        "#         comb_out = self.combustion_chamber(p_node, p_comb_out, T_node, fuel_flow)\n",
        "#         m_air_out = comb_out['air_flow']\n",
        "\n",
        "#         # Обновление состояния узла\n",
        "#         p_node_new, T_node_new = self.volume_node(m_air_in, T_air_out, m_air_out)\n",
        "\n",
        "#         return {\n",
        "#             'compressor': comp_out,\n",
        "#             'combustion_chamber': comb_out,\n",
        "#             'volume_node': {'p': p_node_new, 'T': T_node_new}\n",
        "#         }\n",
        "\n",
        "#     def forward(self, fuel_flow, max_iters=100, tol=1e-3):\n",
        "#         # Копии начального состояния (градиенты не нужны)\n",
        "#         prev_p = self.volume_node.p.detach().clone()\n",
        "#         prev_T = self.volume_node.T.detach().clone()\n",
        "\n",
        "#         for i in range(max_iters - 1):\n",
        "#             # Важно: не используем torch.no_grad()\n",
        "#             _ = self.forward_iteration(fuel_flow)\n",
        "\n",
        "#             dp = (self.volume_node.p - prev_p).abs()\n",
        "#             dT = (self.volume_node.T - prev_T).abs()\n",
        "\n",
        "#             if dp < tol and dT < tol:\n",
        "#                 break\n",
        "\n",
        "#             prev_p = self.volume_node.p.detach().clone()\n",
        "#             prev_T = self.volume_node.T.detach().clone()\n",
        "\n",
        "#             # print(f'Невязка по давлению: {self.volume_node.p - prev_p}')\n",
        "#             # print(f'Невязка по температуре: {self.volume_node.T - prev_T}')\n",
        "\n",
        "#         # print(f'Невязка по давлению: {self.volume_node.p - prev_p}')\n",
        "#         # print(f'Невязка по температуре: {self.volume_node.T - prev_T}')\n",
        "\n",
        "#         # Последняя итерация — с сохранением графа\n",
        "#         return self.forward_iteration(fuel_flow)\n"
      ],
      "metadata": {
        "id": "QIey1b5pIYxV"
      },
      "execution_count": 203,
      "outputs": []
    },
    {
      "cell_type": "code",
      "source": [],
      "metadata": {
        "id": "YlA_fXwfIZZB"
      },
      "execution_count": 203,
      "outputs": []
    },
    {
      "cell_type": "code",
      "source": [
        "# model = GTUModel()\n",
        "\n",
        "# # Топливо — входной параметр, требующий градиента\n",
        "# fuel_flow = torch.tensor([0.5], requires_grad=True)\n",
        "\n",
        "# # Прямой проход\n",
        "# output = model(fuel_flow)\n",
        "\n",
        "# # Пример целевой функции: хотим T_out = 1400 K\n",
        "# target_T = torch.tensor([1400.0])\n",
        "# loss = (output[\"combustion_chamber\"][\"T_out\"] - target_T).pow(2).mean()\n",
        "\n",
        "# # Обратный проход\n",
        "# loss.backward()\n",
        "\n",
        "# # Проверим градиенты\n",
        "# print(fuel_flow.grad)  # dL/dfuel_flow\n",
        "# # print(model.combustion_chamber.raw_eta_comb.grad)  # dL/deta"
      ],
      "metadata": {
        "id": "NeGRckCqMMjP"
      },
      "execution_count": 204,
      "outputs": []
    },
    {
      "cell_type": "code",
      "source": [
        "# output"
      ],
      "metadata": {
        "id": "chNG0OiWIZiW"
      },
      "execution_count": 205,
      "outputs": []
    },
    {
      "cell_type": "code",
      "source": [],
      "metadata": {
        "id": "feGige4-MWvq"
      },
      "execution_count": 205,
      "outputs": []
    },
    {
      "cell_type": "markdown",
      "source": [
        "### Тестируем модель компрессора"
      ],
      "metadata": {
        "id": "CK13nbdKw58f"
      }
    },
    {
      "cell_type": "code",
      "source": [
        "betas = [1,2,3,4,5,6,7,8]\n",
        "speeds = [87.92, 95.24, 102.57, 109.9]\n",
        "table_phi = [\n",
        "            [25.33, 40, 60, 70],\n",
        "            [35, 48.48, 69, 79],\n",
        "            [42, 58, 74.64, 83],\n",
        "            [45.33, 62, 76.5, 84.37],\n",
        "            [52, 66.33, 77.7, 85],\n",
        "            [56.5, 68.5, 78.8, 85.36],\n",
        "            [60, 70, 79.82, 86.06],\n",
        "            [61.51, 70.88, 80.87, 86.66]\n",
        "        ]\n",
        "table_pi_c = [\n",
        "            [5, 5.3, 5.8, 6],\n",
        "            [4.6, 5, 5.4, 5.6],\n",
        "            [4.2, 4.6, 5, 5.3],\n",
        "            [4, 4.4, 4.7, 5],\n",
        "            [3.6, 4, 4.3, 4.5],\n",
        "            [3.2, 3.5, 3.8, 4],\n",
        "            [2.5, 2.7, 2.95, 3.1],\n",
        "            [1.7, 1.9, 2, 2.1]\n",
        "        ]\n",
        "table_eta = [\n",
        "            [0.746, 0.73, 0.7, 0.68],\n",
        "            [0.8, 0.836, 0.87, 0.85],\n",
        "            [0.835, 0.89, 0.924, 0.88],\n",
        "            [0.85, 0.91, 0.92, 0.886],\n",
        "            [0.875, 0.913, 0.9, 0.88],\n",
        "            [0.872, 0.873, 0.85, 0.8],\n",
        "            [0.8, 0.77, 0.741, 0.72],\n",
        "            [0.654, 0.63, 0.605, 0.592]\n",
        "        ]"
      ],
      "metadata": {
        "id": "zKj2FSzPugUD"
      },
      "execution_count": 220,
      "outputs": []
    },
    {
      "cell_type": "code",
      "source": [],
      "metadata": {
        "id": "0sliZXH1PirE"
      },
      "execution_count": 220,
      "outputs": []
    },
    {
      "cell_type": "code",
      "source": [
        "cmap = CompressorMapInterp(betas, speeds, table_phi, table_pi_c, table_eta)\n",
        "cmap.forward(torch.tensor([4]), torch.tensor([95.24]))"
      ],
      "metadata": {
        "colab": {
          "base_uri": "https://localhost:8080/"
        },
        "id": "EgbIGaevJ9fv",
        "outputId": "efe771e4-73c9-469b-cc99-9d6715e14026"
      },
      "execution_count": 221,
      "outputs": [
        {
          "output_type": "execute_result",
          "data": {
            "text/plain": [
              "(tensor([4.4000]), tensor([62.0000]), tensor([0.9100]))"
            ]
          },
          "metadata": {},
          "execution_count": 221
        }
      ]
    },
    {
      "cell_type": "code",
      "source": [
        "compressor = Compressor(CompressorMapInterp(betas, speeds, table_phi, table_pi_c, table_eta))"
      ],
      "metadata": {
        "id": "O4s012uYSN83"
      },
      "execution_count": 222,
      "outputs": []
    },
    {
      "cell_type": "code",
      "source": [
        "compressor.forward(\n",
        "    p_in=torch.tensor([1e5]),\n",
        "    T_in=torch.tensor([20+273.15]),\n",
        "    p_out=torch.tensor([4e5]),\n",
        "    omega=torch.tensor([9547]))"
      ],
      "metadata": {
        "colab": {
          "base_uri": "https://localhost:8080/"
        },
        "id": "hIVDKUooJ9jc",
        "outputId": "65d3ed04-684c-4359-aebf-21e336056f9e"
      },
      "execution_count": 209,
      "outputs": [
        {
          "output_type": "execute_result",
          "data": {
            "text/plain": [
              "{'w': tensor([72.0758], grad_fn=<DivBackward0>),\n",
              " 'T_out': tensor([453.3205], grad_fn=<MulBackward0>),\n",
              " 'torque': tensor([3.2236], grad_fn=<DivBackward0>),\n",
              " 'beta': tensor([5.3413]),\n",
              " 'pi_c': tensor([4.0021], grad_fn=<AddBackward0>),\n",
              " 'eta': tensor([0.8899], grad_fn=<AddBackward0>)}"
            ]
          },
          "metadata": {},
          "execution_count": 209
        }
      ]
    },
    {
      "cell_type": "code",
      "source": [],
      "metadata": {
        "id": "TVb9sOtvJ9ms"
      },
      "execution_count": 209,
      "outputs": []
    },
    {
      "cell_type": "markdown",
      "source": [
        "### Тестируем модель узла"
      ],
      "metadata": {
        "id": "XloaZNRry3WR"
      }
    },
    {
      "cell_type": "code",
      "source": [
        "class VolumeSystem(nn.Module):\n",
        "    def __init__(self):\n",
        "        super().__init__()\n",
        "        # Граничные условия\n",
        "        self.bc_inlet = MassFlowTemperatureBC(100.,300.)\n",
        "        self.bc_outlet = PressureBC(1.0e5)\n",
        "\n",
        "        # Компоненты\n",
        "        self.volume_node = VolumeNode(volume=0.1, dt=0.0001, start_p=2.0e5, start_T=500.)\n",
        "        self.pipe = FlowResistance(resistance_coef=1.0)\n",
        "\n",
        "    def forward_iteration(self):\n",
        "        # Граничные условия\n",
        "        m_inlet, T_inlet = self.bc_inlet()\n",
        "        p_outlet = self.bc_outlet()\n",
        "\n",
        "        # Текущее состояние узла\n",
        "        p_node, T_node = self.volume_node.p, self.volume_node.T\n",
        "\n",
        "        # Аэродинамическое сопротивление\n",
        "        m_outlet = self.pipe(p_node, p_outlet)\n",
        "\n",
        "\n",
        "        # Обновление состояния узла\n",
        "        p_node_new, T_node_new = self.volume_node(m_inlet, T_inlet, m_outlet)\n",
        "\n",
        "        return {\n",
        "            'm_inlet': m_inlet,\n",
        "            'm_outlet': m_outlet,\n",
        "            'volume_node': {'p': p_node_new, 'T': T_node_new}\n",
        "        }\n",
        "\n",
        "\n",
        "    def forward(self, max_iters=1000, tol=1e-3):\n",
        "        # Копии начального состояния (градиенты не нужны)\n",
        "        prev_p = self.volume_node.p.detach().clone()\n",
        "        prev_T = self.volume_node.T.detach().clone()\n",
        "\n",
        "        for i in range(max_iters - 1):\n",
        "            # Важно: не используем torch.no_grad()\n",
        "            _ = self.forward_iteration()\n",
        "\n",
        "            dp = (self.volume_node.p - prev_p).abs()\n",
        "            dT = (self.volume_node.T - prev_T).abs()\n",
        "\n",
        "            if dp < tol and dT < tol:\n",
        "                print(f'Итераций выполнено: {i}')\n",
        "                break\n",
        "\n",
        "            prev_p = self.volume_node.p.detach().clone()\n",
        "            prev_T = self.volume_node.T.detach().clone()\n",
        "\n",
        "        # Последняя итерация — с сохранением графа\n",
        "        return self.forward_iteration()"
      ],
      "metadata": {
        "id": "wI9_h9sgy8Y1"
      },
      "execution_count": 291,
      "outputs": []
    },
    {
      "cell_type": "code",
      "source": [
        "model = VolumeSystem()"
      ],
      "metadata": {
        "id": "_Hv3M_C6y8hr"
      },
      "execution_count": 292,
      "outputs": []
    },
    {
      "cell_type": "code",
      "source": [
        "model()"
      ],
      "metadata": {
        "colab": {
          "base_uri": "https://localhost:8080/"
        },
        "id": "uiA_AemoTiv6",
        "outputId": "523f4746-3781-428c-f2e2-3366ee29f458"
      },
      "execution_count": 293,
      "outputs": [
        {
          "output_type": "stream",
          "name": "stdout",
          "text": [
            "Итераций выполнено: 132\n"
          ]
        },
        {
          "output_type": "execute_result",
          "data": {
            "text/plain": [
              "{'m_inlet': Parameter containing:\n",
              " tensor(100., requires_grad=True),\n",
              " 'm_outlet': tensor(99.9989, grad_fn=<SqrtBackward0>),\n",
              " 'volume_node': {'p': tensor(109999.8047, grad_fn=<ClampBackward1>),\n",
              "  'T': tensor(300.0021, grad_fn=<ClampBackward1>)}}"
            ]
          },
          "metadata": {},
          "execution_count": 293
        }
      ]
    },
    {
      "cell_type": "markdown",
      "source": [
        "### Тестируем модель камеры сгорания"
      ],
      "metadata": {
        "id": "BXQrcXHYYi2P"
      }
    },
    {
      "cell_type": "code",
      "source": [
        "class CombustionSystem(nn.Module):\n",
        "    def __init__(self):\n",
        "        super().__init__()\n",
        "        # Граничные условия\n",
        "        self.air_inlet = MassFlowTemperatureBC(100.,300.)\n",
        "        self.fuel_inlet = MassFlowTemperatureBC(2.,300.)\n",
        "        self.bc_outlet = PressureBC(1.0e5)\n",
        "\n",
        "        # Компоненты\n",
        "        self.combustion_node = CombustionChamber(\n",
        "            volume=0.1, dt=0.0001, start_p=2.0e5, start_T=500.)\n",
        "        self.pipe = FlowResistance(resistance_coef=1.0)\n",
        "\n",
        "    def forward_iteration(self):\n",
        "        # Граничные условия\n",
        "        m_air, T_air = self.air_inlet()\n",
        "        m_fuel, _ = self.fuel_inlet()\n",
        "        p_outlet = self.bc_outlet()\n",
        "\n",
        "        # Текущее состояние узла\n",
        "        p_comb, T_comb = self.combustion_node.p, self.combustion_node.T\n",
        "\n",
        "        # Аэродинамическое сопротивление\n",
        "        m_fuel_gas = self.pipe(p_comb, p_outlet)\n",
        "\n",
        "        # Обновление состояния узла\n",
        "        p_node_new, T_node_new = self.combustion_node(T_air, m_air, m_fuel, m_fuel_gas)\n",
        "\n",
        "        return {\n",
        "            'm_fuel_gas': m_fuel_gas,\n",
        "            'combustion_node': {'p': p_node_new, 'T': T_node_new}\n",
        "        }\n",
        "\n",
        "\n",
        "    def forward(self, max_iters=1000, tol=1e-3):\n",
        "        # Копии начального состояния (градиенты не нужны)\n",
        "        prev_p = self.combustion_node.p.detach().clone()\n",
        "        prev_T = self.combustion_node.T.detach().clone()\n",
        "\n",
        "        for i in range(max_iters - 1):\n",
        "            # Важно: не используем torch.no_grad()\n",
        "            _ = self.forward_iteration()\n",
        "\n",
        "            dp = (self.combustion_node.p - prev_p).abs()\n",
        "            dT = (self.combustion_node.T - prev_T).abs()\n",
        "\n",
        "            if dp < tol and dT < tol:\n",
        "                print(f'Итераций выполнено: {i}')\n",
        "                break\n",
        "\n",
        "            prev_p = self.combustion_node.p.detach().clone()\n",
        "            prev_T = self.combustion_node.T.detach().clone()\n",
        "\n",
        "        # Последняя итерация — с сохранением графа\n",
        "        return self.forward_iteration()"
      ],
      "metadata": {
        "id": "0E4goT6QCTJb"
      },
      "execution_count": 313,
      "outputs": []
    },
    {
      "cell_type": "code",
      "source": [
        "model = CombustionSystem()\n",
        "model()"
      ],
      "metadata": {
        "colab": {
          "base_uri": "https://localhost:8080/"
        },
        "id": "sTthIcvUfrXV",
        "outputId": "3b94a97e-fe2f-40c6-e26d-bb379581c6b0"
      },
      "execution_count": 314,
      "outputs": [
        {
          "output_type": "stream",
          "name": "stdout",
          "text": [
            "Итераций выполнено: 36\n"
          ]
        },
        {
          "output_type": "execute_result",
          "data": {
            "text/plain": [
              "{'m_fuel_gas': tensor(102.0002, grad_fn=<SqrtBackward0>),\n",
              " 'combustion_node': {'p': tensor(110404., grad_fn=<ClampBackward1>),\n",
              "  'T': tensor(1269.6313, grad_fn=<ClampBackward1>)}}"
            ]
          },
          "metadata": {},
          "execution_count": 314
        }
      ]
    },
    {
      "cell_type": "code",
      "source": [],
      "metadata": {
        "id": "0kRIrzBVgCaQ"
      },
      "execution_count": null,
      "outputs": []
    }
  ]
}