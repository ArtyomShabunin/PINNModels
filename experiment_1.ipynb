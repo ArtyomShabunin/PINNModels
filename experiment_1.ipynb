{
  "nbformat": 4,
  "nbformat_minor": 0,
  "metadata": {
    "colab": {
      "provenance": [],
      "authorship_tag": "ABX9TyOjt2527cqnB0ayuKs15/TR",
      "include_colab_link": true
    },
    "kernelspec": {
      "name": "python3",
      "display_name": "Python 3"
    },
    "language_info": {
      "name": "python"
    }
  },
  "cells": [
    {
      "cell_type": "markdown",
      "metadata": {
        "id": "view-in-github",
        "colab_type": "text"
      },
      "source": [
        "<a href=\"https://colab.research.google.com/github/ArtyomShabunin/PINNModels/blob/main/experiment_1.ipynb\" target=\"_parent\"><img src=\"https://colab.research.google.com/assets/colab-badge.svg\" alt=\"Open In Colab\"/></a>"
      ]
    },
    {
      "cell_type": "markdown",
      "source": [
        "# Эксперимент №1\n",
        "Разработка PINN для моделирования газотурбинной установки"
      ],
      "metadata": {
        "id": "OtY1Z-2bqLqF"
      }
    },
    {
      "cell_type": "code",
      "execution_count": null,
      "metadata": {
        "id": "shH86ypqour1"
      },
      "outputs": [],
      "source": [
        "import torch\n",
        "import torch.nn as nn\n",
        "import torch.autograd.functional as F"
      ]
    },
    {
      "cell_type": "markdown",
      "source": [
        "### 1. CompressorMapNetBeta — обучаемая карта по β и скорости вращения"
      ],
      "metadata": {
        "id": "jr1cRj07sTFj"
      }
    },
    {
      "cell_type": "code",
      "source": [
        "class CompressorMapNet(nn.Module):\n",
        "    def __init__(self):\n",
        "        super().__init__()\n",
        "        self.net = nn.Sequential(\n",
        "            nn.Linear(2, 64),\n",
        "            nn.Tanh(),\n",
        "            nn.Linear(64, 64),\n",
        "            nn.Tanh(),\n",
        "            nn.Linear(64, 3)  # pi_c, m_dot_rel, eta\n",
        "        )\n",
        "\n",
        "    def forward(self, beta, speed_rel):\n",
        "        x = torch.stack([beta, speed_rel], dim=-1)\n",
        "        out = self.net(x)\n",
        "        pi_c = out[..., 0].clamp(min=1.01, max=10.0)\n",
        "        m_dot_rel = out[..., 1].clamp(min=1e-4)\n",
        "        eta = out[..., 2].clamp(min=0.1, max=1.0)\n",
        "        return pi_c, m_dot_rel, eta"
      ],
      "metadata": {
        "id": "q7qDtZS8qcYj"
      },
      "execution_count": null,
      "outputs": []
    },
    {
      "cell_type": "markdown",
      "source": [
        "### 2. Класс `Compressor`"
      ],
      "metadata": {
        "id": "2mGsRwkcsapV"
      }
    },
    {
      "cell_type": "code",
      "source": [
        "class Compressor(nn.Module):\n",
        "    def __init__(self):\n",
        "        super().__init__()\n",
        "        self.map = CompressorMapNet()\n",
        "        self.cp = 1005.0\n",
        "        self.R = 287.0\n",
        "        self.A_ref = nn.Parameter(torch.tensor(1.0))  # может быть обучаемой\n",
        "\n",
        "    def forward(self, p_in, T_in, p_out, speed_rel, n_iter=10):\n",
        "        # Целевая степень повышения давления\n",
        "        pi_c_target = (p_out / p_in).clamp(min=1.01)\n",
        "\n",
        "        # Инициализация β как параметр, подлежащий оптимизации\n",
        "        beta = torch.full_like(p_in, 0.5, requires_grad=True)\n",
        "\n",
        "        # Оптимизация β через градиентный спуск (можно заменить на nn.Parameter + оптимизатор)\n",
        "        for _ in range(n_iter):\n",
        "            pi_c_pred, _, _ = self.map(beta, speed_rel)\n",
        "            loss = (pi_c_pred - pi_c_target).pow(2).mean()\n",
        "            grad = torch.autograd.grad(loss, beta, create_graph=True)[0]\n",
        "            beta = (beta - 0.05 * grad).detach().clamp(min=0.01).requires_grad_()\n",
        "\n",
        "        # Финальные значения по оптимизированному β\n",
        "        pi_c, m_dot_rel, eta = self.map(beta, speed_rel)\n",
        "\n",
        "        rho_in = p_in / (self.R * T_in)\n",
        "        m_dot = m_dot_rel * rho_in * self.A_ref * speed_rel\n",
        "\n",
        "        T_out = T_in * (1 + (pi_c ** ((1.4 - 1) / 1.4) - 1) / eta)\n",
        "\n",
        "        delta_h = self.cp * (T_out - T_in)\n",
        "        omega = speed_rel * 2 * torch.pi * 50\n",
        "        torque = (m_dot * delta_h) / (omega + 1e-6)\n",
        "\n",
        "        return {\n",
        "            'm_dot': m_dot,\n",
        "            'T_out': T_out,\n",
        "            'torque': torque,\n",
        "            'beta': beta.detach(),\n",
        "            'pi_c': pi_c,\n",
        "            'eta': eta\n",
        "        }"
      ],
      "metadata": {
        "id": "tH-Assu_sOak"
      },
      "execution_count": null,
      "outputs": []
    },
    {
      "cell_type": "code",
      "source": [
        "import torch\n",
        "import torch.nn as nn\n",
        "\n",
        "# Кастомный слой для ограничения параметра в [min_val, max_val]\n",
        "class ScaledSigmoid(nn.Module):\n",
        "    def __init__(self, min_val, max_val):\n",
        "        super().__init__()\n",
        "        self.min_val = min_val\n",
        "        self.max_val = max_val\n",
        "\n",
        "    def forward(self, x):\n",
        "        return self.min_val + (self.max_val - self.min_val) * torch.sigmoid(x)\n",
        "\n",
        "class CombustionChamber(nn.Module):\n",
        "    def __init__(self, LHV=50e6, gamma=1.4, R=287.0):\n",
        "        super().__init__()\n",
        "        self.LHV = LHV\n",
        "        self.gamma = gamma\n",
        "        self.R = R\n",
        "\n",
        "        # Параметры без ограничений\n",
        "        self.raw_eta_comb = nn.Parameter(torch.tensor([0.0]))\n",
        "        self.raw_k_loss = nn.Parameter(torch.tensor([0.0]))\n",
        "\n",
        "        # Слои масштабирования sigmoid → [a, b]\n",
        "        self.scale_eta = ScaledSigmoid(0.8, 1.0)\n",
        "        self.scale_k_loss = ScaledSigmoid(0.0, 0.5)\n",
        "\n",
        "    def forward(self, p_in, p_out, T_in, fuel_flow):\n",
        "        eta_comb = self.scale_eta(self.raw_eta_comb)\n",
        "        k_loss = self.scale_k_loss(self.raw_k_loss)\n",
        "\n",
        "        # Учёт аэродинамического сопротивления\n",
        "        delta_p = k_loss * p_in.clamp(min=1e-3)\n",
        "        p_chamber = p_in - delta_p\n",
        "\n",
        "        # Расход воздуха по уравнению изохорного баланса\n",
        "        air_flow = (fuel_flow * self.LHV * eta_comb) / (self.R * T_in * (self.gamma / (self.gamma - 1)))\n",
        "\n",
        "        # Температура газов на выходе\n",
        "        Q_total = fuel_flow * self.LHV * eta_comb\n",
        "        cp_gas = self.gamma * self.R / (self.gamma - 1)\n",
        "        m_total = air_flow + fuel_flow\n",
        "        T_out = T_in + Q_total / (m_total * cp_gas)\n",
        "\n",
        "        return {\n",
        "            'air_flow': air_flow,\n",
        "            'gas_flow': m_total,\n",
        "            'T_out': T_out,\n",
        "            'p_out': p_out,\n",
        "            'eta_comb': eta_comb,\n",
        "            'k_loss': k_loss\n",
        "        }\n"
      ],
      "metadata": {
        "id": "MAsfWWTNtDPR"
      },
      "execution_count": null,
      "outputs": []
    },
    {
      "cell_type": "code",
      "source": [
        "class PressureTemperatureBC(nn.Module):\n",
        "    def __init__(self, p_val, T_val):\n",
        "        super().__init__()\n",
        "        self.p = nn.Parameter(torch.tensor(p_val))\n",
        "        self.T = nn.Parameter(torch.tensor(T_val))\n",
        "\n",
        "    def forward(self):\n",
        "        return self.p, self.T\n",
        "\n",
        "\n",
        "class PressureBC(nn.Module):\n",
        "    def __init__(self, p_val):\n",
        "        super().__init__()\n",
        "        self.p = nn.Parameter(torch.tensor(p_val))\n",
        "\n",
        "    def forward(self):\n",
        "        return self.p\n",
        "\n",
        "\n",
        "class SpeedBC(nn.Module):\n",
        "    def __init__(self, speed_val):\n",
        "        super().__init__()\n",
        "        self.speed_rel = nn.Parameter(torch.tensor(speed_val))\n",
        "\n",
        "    def forward(self):\n",
        "        return self.speed_rel"
      ],
      "metadata": {
        "id": "0Iyw98uPsOeB"
      },
      "execution_count": null,
      "outputs": []
    },
    {
      "cell_type": "code",
      "source": [
        "class VolumeNode(nn.Module):\n",
        "    def __init__(self, volume=0.1, dt=0.01, R=287.0, cp=1005.0):\n",
        "        super().__init__()\n",
        "        self.volume = volume  # м³ — объём узла\n",
        "        self.dt = dt  # временной шаг\n",
        "        self.R = R\n",
        "        self.cp = cp\n",
        "\n",
        "        # Инициализируем давление и температуру в узле (будут обновляться)\n",
        "        self.register_buffer('p', torch.tensor(1e5))  # Па\n",
        "        self.register_buffer('T', torch.tensor(300.0))  # К\n",
        "\n",
        "    def forward(self, m_in, T_in, m_out):\n",
        "        \"\"\"\n",
        "        m_in: подача воздуха в узел (кг/с)\n",
        "        T_in: температура входящего воздуха (К)\n",
        "        m_out: расход из узла (кг/с)\n",
        "\n",
        "        Возвращает: давление и температура в узле на текущем шаге\n",
        "        \"\"\"\n",
        "        # Текущая масса в узле\n",
        "        m_curr = (self.p * self.volume) / (self.R * self.T)\n",
        "\n",
        "        # Массовый и энергетический балансы\n",
        "        m_new = m_curr + self.dt * (m_in - m_out)\n",
        "        e_curr = m_curr * self.cp * self.T\n",
        "        e_in = m_in * self.cp * T_in\n",
        "        e_out = m_out * self.cp * self.T\n",
        "        e_new = e_curr + self.dt * (e_in - e_out)\n",
        "\n",
        "        # Обновляем состояние\n",
        "        self.T = (e_new / (m_new * self.cp)).clamp(min=100.0, max=3000.0)\n",
        "        self.p = (m_new * self.R * self.T / self.volume).clamp(min=1e3, max=1e7)\n",
        "\n",
        "        return self.p, self.T"
      ],
      "metadata": {
        "id": "wwSQlRw4IKBf"
      },
      "execution_count": null,
      "outputs": []
    },
    {
      "cell_type": "code",
      "source": [
        "import torch\n",
        "import torch.nn as nn\n",
        "\n",
        "class GTUModel(nn.Module):\n",
        "    def __init__(self):\n",
        "        super().__init__()\n",
        "        # Граничные условия\n",
        "        self.bc_inlet = PressureTemperatureBC(1e5, 288.15)  # p, T\n",
        "        self.bc_comb_out = PressureBC(2e5)                  # p\n",
        "        self.bc_speed = SpeedBC(1.0)                        # относительная скорость\n",
        "\n",
        "        # Компоненты\n",
        "        self.volume_node = VolumeNode(volume=0.1, dt=0.01)\n",
        "        self.compressor = Compressor()                     # с CompressorMapNetBeta\n",
        "        self.combustion_chamber = CombustionChamber()      # с тепловым балансом и сопротивлением\n",
        "\n",
        "    def forward_iteration(self, fuel_flow):\n",
        "        # Граничные условия\n",
        "        p_inlet, T_inlet = self.bc_inlet()\n",
        "        p_comb_out = self.bc_comb_out()\n",
        "        speed_rel = self.bc_speed()\n",
        "\n",
        "        # Текущее состояние узла\n",
        "        p_node, T_node = self.volume_node.p, self.volume_node.T\n",
        "\n",
        "        # Компрессор\n",
        "        comp_out = self.compressor(p_inlet, T_inlet, p_node, speed_rel)\n",
        "        m_air_in = comp_out['m_dot']\n",
        "        T_air_out = comp_out['T_out']\n",
        "\n",
        "        # Камера сгорания\n",
        "        comb_out = self.combustion_chamber(p_node, p_comb_out, T_node, fuel_flow)\n",
        "        m_air_out = comb_out['air_flow']\n",
        "\n",
        "        # Обновление состояния узла\n",
        "        p_node_new, T_node_new = self.volume_node(m_air_in, T_air_out, m_air_out)\n",
        "\n",
        "        return {\n",
        "            'compressor': comp_out,\n",
        "            'combustion_chamber': comb_out,\n",
        "            'volume_node': {'p': p_node_new, 'T': T_node_new}\n",
        "        }\n",
        "\n",
        "    def forward(self, fuel_flow, max_iters=100, tol=1e-3):\n",
        "        # Копии начального состояния (градиенты не нужны)\n",
        "        prev_p = self.volume_node.p.detach().clone()\n",
        "        prev_T = self.volume_node.T.detach().clone()\n",
        "\n",
        "        for i in range(max_iters - 1):\n",
        "            # Важно: не используем torch.no_grad()\n",
        "            _ = self.forward_iteration(fuel_flow)\n",
        "\n",
        "            dp = (self.volume_node.p - prev_p).abs()\n",
        "            dT = (self.volume_node.T - prev_T).abs()\n",
        "\n",
        "            if dp < tol and dT < tol:\n",
        "                break\n",
        "\n",
        "            prev_p = self.volume_node.p.detach().clone()\n",
        "            prev_T = self.volume_node.T.detach().clone()\n",
        "\n",
        "        # Последняя итерация — с сохранением графа\n",
        "        return self.forward_iteration(fuel_flow)\n"
      ],
      "metadata": {
        "id": "QIey1b5pIYxV"
      },
      "execution_count": null,
      "outputs": []
    },
    {
      "cell_type": "code",
      "source": [],
      "metadata": {
        "id": "YlA_fXwfIZZB"
      },
      "execution_count": null,
      "outputs": []
    },
    {
      "cell_type": "code",
      "source": [
        "model = GTUModel()\n",
        "\n",
        "# Топливо — входной параметр, требующий градиента\n",
        "fuel_flow = torch.tensor([0.5], requires_grad=True)\n",
        "\n",
        "# Прямой проход\n",
        "output = model(fuel_flow)\n",
        "\n",
        "# Пример целевой функции: хотим T_out = 1400 K\n",
        "target_T = torch.tensor([1400.0])\n",
        "loss = (output[\"combustion_chamber\"][\"T_out\"] - target_T).pow(2).mean()\n",
        "\n",
        "# Обратный проход\n",
        "loss.backward()\n",
        "\n",
        "# Проверим градиенты\n",
        "print(fuel_flow.grad)  # dL/dfuel_flow\n",
        "# print(model.combustion_chamber.raw_eta_comb.grad)  # dL/deta"
      ],
      "metadata": {
        "colab": {
          "base_uri": "https://localhost:8080/"
        },
        "id": "NeGRckCqMMjP",
        "outputId": "7a45ba68-a929-47f9-d319-3e617a8cb1aa"
      },
      "execution_count": null,
      "outputs": [
        {
          "output_type": "stream",
          "name": "stdout",
          "text": [
            "tensor([7.8001e+08])\n"
          ]
        }
      ]
    },
    {
      "cell_type": "code",
      "source": [],
      "metadata": {
        "colab": {
          "base_uri": "https://localhost:8080/",
          "height": 287
        },
        "id": "chNG0OiWIZiW",
        "outputId": "e81db962-9576-4aeb-e84a-dd011dd25e4e"
      },
      "execution_count": null,
      "outputs": [
        {
          "output_type": "error",
          "ename": "RuntimeError",
          "evalue": "element 0 of tensors does not require grad and does not have a grad_fn",
          "traceback": [
            "\u001b[0;31m---------------------------------------------------------------------------\u001b[0m",
            "\u001b[0;31mRuntimeError\u001b[0m                              Traceback (most recent call last)",
            "\u001b[0;32m<ipython-input-50-0bd3804f8b77>\u001b[0m in \u001b[0;36m<cell line: 0>\u001b[0;34m()\u001b[0m\n\u001b[0;32m----> 1\u001b[0;31m \u001b[0mmodel\u001b[0m\u001b[0;34m.\u001b[0m\u001b[0mforward\u001b[0m\u001b[0;34m(\u001b[0m\u001b[0;36m5\u001b[0m\u001b[0;34m)\u001b[0m\u001b[0;34m\u001b[0m\u001b[0;34m\u001b[0m\u001b[0m\n\u001b[0m",
            "\u001b[0;32m<ipython-input-48-84f667470174>\u001b[0m in \u001b[0;36mforward\u001b[0;34m(self, fuel_flow, max_iters, tol)\u001b[0m\n\u001b[1;32m     44\u001b[0m \u001b[0;34m\u001b[0m\u001b[0m\n\u001b[1;32m     45\u001b[0m             \u001b[0;32mfor\u001b[0m \u001b[0m_\u001b[0m \u001b[0;32min\u001b[0m \u001b[0mrange\u001b[0m\u001b[0;34m(\u001b[0m\u001b[0mmax_iters\u001b[0m \u001b[0;34m-\u001b[0m \u001b[0;36m1\u001b[0m\u001b[0;34m)\u001b[0m\u001b[0;34m:\u001b[0m\u001b[0;34m\u001b[0m\u001b[0;34m\u001b[0m\u001b[0m\n\u001b[0;32m---> 46\u001b[0;31m                 \u001b[0m_\u001b[0m \u001b[0;34m=\u001b[0m \u001b[0mself\u001b[0m\u001b[0;34m.\u001b[0m\u001b[0mforward_iteration\u001b[0m\u001b[0;34m(\u001b[0m\u001b[0mfuel_flow\u001b[0m\u001b[0;34m)\u001b[0m\u001b[0;34m\u001b[0m\u001b[0;34m\u001b[0m\u001b[0m\n\u001b[0m\u001b[1;32m     47\u001b[0m \u001b[0;34m\u001b[0m\u001b[0m\n\u001b[1;32m     48\u001b[0m                 \u001b[0mdp\u001b[0m \u001b[0;34m=\u001b[0m \u001b[0;34m(\u001b[0m\u001b[0mself\u001b[0m\u001b[0;34m.\u001b[0m\u001b[0mvolume_node\u001b[0m\u001b[0;34m.\u001b[0m\u001b[0mp\u001b[0m \u001b[0;34m-\u001b[0m \u001b[0mprev_p\u001b[0m\u001b[0;34m)\u001b[0m\u001b[0;34m.\u001b[0m\u001b[0mabs\u001b[0m\u001b[0;34m(\u001b[0m\u001b[0;34m)\u001b[0m\u001b[0;34m\u001b[0m\u001b[0;34m\u001b[0m\u001b[0m\n",
            "\u001b[0;32m<ipython-input-48-84f667470174>\u001b[0m in \u001b[0;36mforward_iteration\u001b[0;34m(self, fuel_flow)\u001b[0m\n\u001b[1;32m     22\u001b[0m \u001b[0;34m\u001b[0m\u001b[0m\n\u001b[1;32m     23\u001b[0m         \u001b[0;31m# Компрессор\u001b[0m\u001b[0;34m\u001b[0m\u001b[0;34m\u001b[0m\u001b[0m\n\u001b[0;32m---> 24\u001b[0;31m         \u001b[0mcomp_out\u001b[0m \u001b[0;34m=\u001b[0m \u001b[0mself\u001b[0m\u001b[0;34m.\u001b[0m\u001b[0mcompressor\u001b[0m\u001b[0;34m(\u001b[0m\u001b[0mp_inlet\u001b[0m\u001b[0;34m,\u001b[0m \u001b[0mT_inlet\u001b[0m\u001b[0;34m,\u001b[0m \u001b[0mp_node\u001b[0m\u001b[0;34m,\u001b[0m \u001b[0mspeed_rel\u001b[0m\u001b[0;34m)\u001b[0m\u001b[0;34m\u001b[0m\u001b[0;34m\u001b[0m\u001b[0m\n\u001b[0m\u001b[1;32m     25\u001b[0m         \u001b[0mm_air_in\u001b[0m \u001b[0;34m=\u001b[0m \u001b[0mcomp_out\u001b[0m\u001b[0;34m[\u001b[0m\u001b[0;34m'm_dot'\u001b[0m\u001b[0;34m]\u001b[0m\u001b[0;34m\u001b[0m\u001b[0;34m\u001b[0m\u001b[0m\n\u001b[1;32m     26\u001b[0m         \u001b[0mT_air_out\u001b[0m \u001b[0;34m=\u001b[0m \u001b[0mcomp_out\u001b[0m\u001b[0;34m[\u001b[0m\u001b[0;34m'T_out'\u001b[0m\u001b[0;34m]\u001b[0m\u001b[0;34m\u001b[0m\u001b[0;34m\u001b[0m\u001b[0m\n",
            "\u001b[0;32m/usr/local/lib/python3.11/dist-packages/torch/nn/modules/module.py\u001b[0m in \u001b[0;36m_wrapped_call_impl\u001b[0;34m(self, *args, **kwargs)\u001b[0m\n\u001b[1;32m   1737\u001b[0m             \u001b[0;32mreturn\u001b[0m \u001b[0mself\u001b[0m\u001b[0;34m.\u001b[0m\u001b[0m_compiled_call_impl\u001b[0m\u001b[0;34m(\u001b[0m\u001b[0;34m*\u001b[0m\u001b[0margs\u001b[0m\u001b[0;34m,\u001b[0m \u001b[0;34m**\u001b[0m\u001b[0mkwargs\u001b[0m\u001b[0;34m)\u001b[0m  \u001b[0;31m# type: ignore[misc]\u001b[0m\u001b[0;34m\u001b[0m\u001b[0;34m\u001b[0m\u001b[0m\n\u001b[1;32m   1738\u001b[0m         \u001b[0;32melse\u001b[0m\u001b[0;34m:\u001b[0m\u001b[0;34m\u001b[0m\u001b[0;34m\u001b[0m\u001b[0m\n\u001b[0;32m-> 1739\u001b[0;31m             \u001b[0;32mreturn\u001b[0m \u001b[0mself\u001b[0m\u001b[0;34m.\u001b[0m\u001b[0m_call_impl\u001b[0m\u001b[0;34m(\u001b[0m\u001b[0;34m*\u001b[0m\u001b[0margs\u001b[0m\u001b[0;34m,\u001b[0m \u001b[0;34m**\u001b[0m\u001b[0mkwargs\u001b[0m\u001b[0;34m)\u001b[0m\u001b[0;34m\u001b[0m\u001b[0;34m\u001b[0m\u001b[0m\n\u001b[0m\u001b[1;32m   1740\u001b[0m \u001b[0;34m\u001b[0m\u001b[0m\n\u001b[1;32m   1741\u001b[0m     \u001b[0;31m# torchrec tests the code consistency with the following code\u001b[0m\u001b[0;34m\u001b[0m\u001b[0;34m\u001b[0m\u001b[0m\n",
            "\u001b[0;32m/usr/local/lib/python3.11/dist-packages/torch/nn/modules/module.py\u001b[0m in \u001b[0;36m_call_impl\u001b[0;34m(self, *args, **kwargs)\u001b[0m\n\u001b[1;32m   1748\u001b[0m                 \u001b[0;32mor\u001b[0m \u001b[0m_global_backward_pre_hooks\u001b[0m \u001b[0;32mor\u001b[0m \u001b[0m_global_backward_hooks\u001b[0m\u001b[0;34m\u001b[0m\u001b[0;34m\u001b[0m\u001b[0m\n\u001b[1;32m   1749\u001b[0m                 or _global_forward_hooks or _global_forward_pre_hooks):\n\u001b[0;32m-> 1750\u001b[0;31m             \u001b[0;32mreturn\u001b[0m \u001b[0mforward_call\u001b[0m\u001b[0;34m(\u001b[0m\u001b[0;34m*\u001b[0m\u001b[0margs\u001b[0m\u001b[0;34m,\u001b[0m \u001b[0;34m**\u001b[0m\u001b[0mkwargs\u001b[0m\u001b[0;34m)\u001b[0m\u001b[0;34m\u001b[0m\u001b[0;34m\u001b[0m\u001b[0m\n\u001b[0m\u001b[1;32m   1751\u001b[0m \u001b[0;34m\u001b[0m\u001b[0m\n\u001b[1;32m   1752\u001b[0m         \u001b[0mresult\u001b[0m \u001b[0;34m=\u001b[0m \u001b[0;32mNone\u001b[0m\u001b[0;34m\u001b[0m\u001b[0;34m\u001b[0m\u001b[0m\n",
            "\u001b[0;32m<ipython-input-12-1a1ca767de72>\u001b[0m in \u001b[0;36mforward\u001b[0;34m(self, p_in, T_in, p_out, speed_rel, n_iter)\u001b[0m\n\u001b[1;32m     18\u001b[0m             \u001b[0mpi_c_pred\u001b[0m\u001b[0;34m,\u001b[0m \u001b[0m_\u001b[0m\u001b[0;34m,\u001b[0m \u001b[0m_\u001b[0m \u001b[0;34m=\u001b[0m \u001b[0mself\u001b[0m\u001b[0;34m.\u001b[0m\u001b[0mmap\u001b[0m\u001b[0;34m(\u001b[0m\u001b[0mbeta\u001b[0m\u001b[0;34m,\u001b[0m \u001b[0mspeed_rel\u001b[0m\u001b[0;34m)\u001b[0m\u001b[0;34m\u001b[0m\u001b[0;34m\u001b[0m\u001b[0m\n\u001b[1;32m     19\u001b[0m             \u001b[0mloss\u001b[0m \u001b[0;34m=\u001b[0m \u001b[0;34m(\u001b[0m\u001b[0mpi_c_pred\u001b[0m \u001b[0;34m-\u001b[0m \u001b[0mpi_c_target\u001b[0m\u001b[0;34m)\u001b[0m\u001b[0;34m.\u001b[0m\u001b[0mpow\u001b[0m\u001b[0;34m(\u001b[0m\u001b[0;36m2\u001b[0m\u001b[0;34m)\u001b[0m\u001b[0;34m.\u001b[0m\u001b[0mmean\u001b[0m\u001b[0;34m(\u001b[0m\u001b[0;34m)\u001b[0m\u001b[0;34m\u001b[0m\u001b[0;34m\u001b[0m\u001b[0m\n\u001b[0;32m---> 20\u001b[0;31m             \u001b[0mgrad\u001b[0m \u001b[0;34m=\u001b[0m \u001b[0mtorch\u001b[0m\u001b[0;34m.\u001b[0m\u001b[0mautograd\u001b[0m\u001b[0;34m.\u001b[0m\u001b[0mgrad\u001b[0m\u001b[0;34m(\u001b[0m\u001b[0mloss\u001b[0m\u001b[0;34m,\u001b[0m \u001b[0mbeta\u001b[0m\u001b[0;34m,\u001b[0m \u001b[0mcreate_graph\u001b[0m\u001b[0;34m=\u001b[0m\u001b[0;32mTrue\u001b[0m\u001b[0;34m)\u001b[0m\u001b[0;34m[\u001b[0m\u001b[0;36m0\u001b[0m\u001b[0;34m]\u001b[0m\u001b[0;34m\u001b[0m\u001b[0;34m\u001b[0m\u001b[0m\n\u001b[0m\u001b[1;32m     21\u001b[0m             \u001b[0mbeta\u001b[0m \u001b[0;34m=\u001b[0m \u001b[0;34m(\u001b[0m\u001b[0mbeta\u001b[0m \u001b[0;34m-\u001b[0m \u001b[0;36m0.05\u001b[0m \u001b[0;34m*\u001b[0m \u001b[0mgrad\u001b[0m\u001b[0;34m)\u001b[0m\u001b[0;34m.\u001b[0m\u001b[0mdetach\u001b[0m\u001b[0;34m(\u001b[0m\u001b[0;34m)\u001b[0m\u001b[0;34m.\u001b[0m\u001b[0mclamp\u001b[0m\u001b[0;34m(\u001b[0m\u001b[0mmin\u001b[0m\u001b[0;34m=\u001b[0m\u001b[0;36m0.01\u001b[0m\u001b[0;34m)\u001b[0m\u001b[0;34m.\u001b[0m\u001b[0mrequires_grad_\u001b[0m\u001b[0;34m(\u001b[0m\u001b[0;34m)\u001b[0m\u001b[0;34m\u001b[0m\u001b[0;34m\u001b[0m\u001b[0m\n\u001b[1;32m     22\u001b[0m \u001b[0;34m\u001b[0m\u001b[0m\n",
            "\u001b[0;32m/usr/local/lib/python3.11/dist-packages/torch/autograd/__init__.py\u001b[0m in \u001b[0;36mgrad\u001b[0;34m(outputs, inputs, grad_outputs, retain_graph, create_graph, only_inputs, allow_unused, is_grads_batched, materialize_grads)\u001b[0m\n\u001b[1;32m    494\u001b[0m         )\n\u001b[1;32m    495\u001b[0m     \u001b[0;32melse\u001b[0m\u001b[0;34m:\u001b[0m\u001b[0;34m\u001b[0m\u001b[0;34m\u001b[0m\u001b[0m\n\u001b[0;32m--> 496\u001b[0;31m         result = _engine_run_backward(\n\u001b[0m\u001b[1;32m    497\u001b[0m             \u001b[0moutputs\u001b[0m\u001b[0;34m,\u001b[0m\u001b[0;34m\u001b[0m\u001b[0;34m\u001b[0m\u001b[0m\n\u001b[1;32m    498\u001b[0m             \u001b[0mgrad_outputs_\u001b[0m\u001b[0;34m,\u001b[0m\u001b[0;34m\u001b[0m\u001b[0;34m\u001b[0m\u001b[0m\n",
            "\u001b[0;32m/usr/local/lib/python3.11/dist-packages/torch/autograd/graph.py\u001b[0m in \u001b[0;36m_engine_run_backward\u001b[0;34m(t_outputs, *args, **kwargs)\u001b[0m\n\u001b[1;32m    821\u001b[0m         \u001b[0munregister_hooks\u001b[0m \u001b[0;34m=\u001b[0m \u001b[0m_register_logging_hooks_on_whole_graph\u001b[0m\u001b[0;34m(\u001b[0m\u001b[0mt_outputs\u001b[0m\u001b[0;34m)\u001b[0m\u001b[0;34m\u001b[0m\u001b[0;34m\u001b[0m\u001b[0m\n\u001b[1;32m    822\u001b[0m     \u001b[0;32mtry\u001b[0m\u001b[0;34m:\u001b[0m\u001b[0;34m\u001b[0m\u001b[0;34m\u001b[0m\u001b[0m\n\u001b[0;32m--> 823\u001b[0;31m         return Variable._execution_engine.run_backward(  # Calls into the C++ engine to run the backward pass\n\u001b[0m\u001b[1;32m    824\u001b[0m             \u001b[0mt_outputs\u001b[0m\u001b[0;34m,\u001b[0m \u001b[0;34m*\u001b[0m\u001b[0margs\u001b[0m\u001b[0;34m,\u001b[0m \u001b[0;34m**\u001b[0m\u001b[0mkwargs\u001b[0m\u001b[0;34m\u001b[0m\u001b[0;34m\u001b[0m\u001b[0m\n\u001b[1;32m    825\u001b[0m         )  # Calls into the C++ engine to run the backward pass\n",
            "\u001b[0;31mRuntimeError\u001b[0m: element 0 of tensors does not require grad and does not have a grad_fn"
          ]
        }
      ]
    },
    {
      "cell_type": "code",
      "source": [],
      "metadata": {
        "id": "feGige4-MWvq"
      },
      "execution_count": null,
      "outputs": []
    },
    {
      "cell_type": "code",
      "source": [],
      "metadata": {
        "id": "lw9ii8nmMW2A"
      },
      "execution_count": null,
      "outputs": []
    }
  ]
}